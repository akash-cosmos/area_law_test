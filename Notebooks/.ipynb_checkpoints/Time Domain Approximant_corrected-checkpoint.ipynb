{
 "cells": [
  {
   "cell_type": "code",
   "execution_count": 2,
   "id": "06fe3b69",
   "metadata": {},
   "outputs": [],
   "source": [
    "import numpy as np\n",
    "import pycbc.waveform as pycbc_wf\n",
    "import bilby\n",
    "import pycbc\n",
    "import matplotlib.pyplot as plt\n",
    "import logging"
   ]
  },
  {
   "cell_type": "code",
   "execution_count": 28,
   "id": "df682014",
   "metadata": {},
   "outputs": [],
   "source": [
    "def trial_model_time(time_array, mass_1, mass_2, luminosity_distance, theta_jn, phase,\n",
    "         a_1, a_2, tilt_1=0.0, tilt_2=0.0, phi_12=0.0, phi_jl=0.0, \n",
    "         **waveform_kwargs):\n",
    "    \"\"\" Modelling the inspital part of the waveform in time domain \"\"\"\n",
    "    \n",
    "    start_frequency = minimum_frequency = waveform_kwargs.get('minimum_frequency', 20.0)\n",
    "    #maximum_frequency = waveform_kwargs.get('maximum_frequency', frequency_array[-1])\n",
    "    reference_frequency = waveform_kwargs.get('reference_frequency', 50.0)\n",
    "    \n",
    "    start_time = minimum_time = waveform_kwargs.get('minimum_time', time_array[0])\n",
    "    end_time = maximum_time = waveform_kwargs.get('maximum_time', time_array[-1])\n",
    "    \n",
    "    waveform_dictionary = dict(spin_order=-1, tidal_order=-1,\n",
    "        phase_order=-1, amplitude_order=0)\n",
    "    \n",
    "    m1 = mass_1 * bilby.core.utils.solar_mass\n",
    "    m2 = mass_2 * bilby.core.utils.solar_mass\n",
    "    \n",
    "    iota, spin_1x, spin_1y, spin_1z, spin_2x, spin_2y, spin_2z = bilby.gw.conversion.bilby_to_lalsimulation_spins(\n",
    "        theta_jn=theta_jn, phi_jl=phi_jl, tilt_1=tilt_1, tilt_2=tilt_2,\n",
    "        phi_12=phi_12, a_1=a_1, a_2=a_2, mass_1=m1, mass_2=m2,\n",
    "        reference_frequency=reference_frequency, phase=phase)\n",
    "    \n",
    "    longitude_ascending_nodes = 0.0\n",
    "    mean_per_ano = 0.0\n",
    "    \n",
    "    #delta_time = time_array[1] - time_array[0]\n",
    "#     time_bounds = ((time_array >= minimum_time) *\n",
    "#                         (time_array <= maximum_time))\n",
    "    \n",
    "    hpt, hct = pycbc.waveform.get_td_waveform(approximant=\"TaylorT2\",\n",
    "                                        mass1=mass_1,\n",
    "                                 mass2=mass_2,\n",
    "                                 a1= a_1, a2= a_2,\n",
    "                                 delta_t=1.0/4096,\n",
    "                                 f_lower=20)\n",
    "    \n",
    "    h_plus = np.zeros_like(time_array, dtype=complex)\n",
    "    h_cross = np.zeros_like(time_array, dtype=complex)\n",
    "    \n",
    "    if len(hpt.data.data) > len(time_array):\n",
    "\n",
    "        h_plus = hpt.data.data[:len(h_plus)]\n",
    "        h_cross = hct.data.data[:len(h_cross)]\n",
    "    else:\n",
    "\n",
    "        \n",
    "        h_plus[-len(hpt.data.data):] = hpt.data.data\n",
    "        h_cross[-len(hct.data.data):] = hct.data.data\n",
    "   \n",
    "\n",
    "    return h_plus"
   ]
  },
  {
   "cell_type": "code",
   "execution_count": 29,
   "id": "71de0003",
   "metadata": {},
   "outputs": [
    {
     "data": {
      "text/plain": [
       "array([ 1.86996153e-19,  1.88157105e-19,  1.89140931e-19,  1.89946622e-19,\n",
       "        1.90573343e-19,  1.91020426e-19,  1.91287370e-19,  1.91373844e-19,\n",
       "        1.91279688e-19,  1.91004914e-19,  1.90549701e-19,  1.89914401e-19,\n",
       "        1.89099538e-19,  1.88105798e-19,  1.86934049e-19,  1.85585314e-19,\n",
       "        1.84060800e-19,  1.82361862e-19,  1.80490042e-19,  1.78447024e-19,\n",
       "        1.76234669e-19,  1.73855004e-19,  1.71310203e-19,  1.68602605e-19,\n",
       "        1.65734705e-19,  1.62709143e-19,  1.59528719e-19,  1.56196383e-19,\n",
       "        1.52715220e-19,  1.49088479e-19,  1.45319507e-19,  1.41411844e-19,\n",
       "        1.37369130e-19,  1.33195133e-19,  1.28893752e-19,  1.24469033e-19,\n",
       "        1.19925103e-19,  1.15266234e-19,  1.10496806e-19,  1.05621282e-19,\n",
       "        1.00644260e-19,  9.55704191e-20,  9.04045506e-20,  8.51515201e-20,\n",
       "        7.98162806e-20,  7.44038672e-20,  6.89193929e-20,  6.33680580e-20,\n",
       "        5.77551123e-20,  5.20858536e-20,  4.63656713e-20,  4.05999884e-20,\n",
       "        3.47942751e-20,  2.89540440e-20,  2.30848291e-20,  1.71922306e-20,\n",
       "        1.12818550e-20,  5.35931371e-21, -5.69746595e-22, -6.49965433e-21,\n",
       "       -1.24247850e-20, -1.83394597e-20, -2.42380424e-20, -3.01148740e-20,\n",
       "       -3.59643641e-20, -4.17808904e-20, -4.75588950e-20, -5.32928496e-20,\n",
       "       -5.89772316e-20, -6.46065982e-20, -7.01755521e-20, -7.56787329e-20,\n",
       "       -8.11108563e-20, -8.64666860e-20, -9.17410711e-20, -9.69289332e-20,\n",
       "       -1.02025245e-19, -1.07025122e-19, -1.11923708e-19, -1.16716272e-19,\n",
       "       -1.21398180e-19, -1.25964901e-19, -1.30411996e-19, -1.34735165e-19,\n",
       "       -1.38930197e-19, -1.42993014e-19, -1.46919664e-19, -1.50706318e-19,\n",
       "       -1.54349283e-19, -1.57844997e-19, -1.61190040e-19, -1.64381133e-19,\n",
       "       -1.67415150e-19, -1.70289089e-19, -1.73000135e-19, -1.75545607e-19,\n",
       "       -1.77922977e-19, -1.80129892e-19, -1.82164156e-19])"
      ]
     },
     "execution_count": 29,
     "metadata": {},
     "output_type": "execute_result"
    }
   ],
   "source": [
    "np.array(trial_model_time(np.arange(1,100,1),30, 30, 400, 0, 1.3,\n",
    "        0.3, 0.4, tilt_1=0.0, tilt_2=0.0, phi_12=0.0, phi_jl=0.0))"
   ]
  },
  {
   "cell_type": "code",
   "execution_count": 25,
   "id": "cbc7b34a",
   "metadata": {},
   "outputs": [
    {
     "name": "stderr",
     "output_type": "stream",
     "text": [
      "/Users/jimmy/opt/anaconda3/envs/igwn-py39/lib/python3.9/site-packages/numpy/core/_asarray.py:102: ComplexWarning: Casting complex values to real discards the imaginary part\n",
      "  return array(a, dtype, copy=False, order=order)\n"
     ]
    },
    {
     "data": {
      "image/png": "[encoded data removed]",
      "text/plain": [
       "<Figure size 432x288 with 1 Axes>"
      ]
     },
     "metadata": {
      "needs_background": "light"
     },
     "output_type": "display_data"
    }
   ],
   "source": [
    "tg = 1126259462.4\n",
    "t = np.linspace(tg-4,tg,10000)\n",
    "model = np.array(trial_model_time(t,30, 30, 400, 0, 1.3,\n",
    "         0.3, 0.4, tilt_1=0.0, tilt_2=0.0, phi_12=0.0, phi_jl=0.0))\n",
    "t1 = np.linspace(tg-4,tg+4,100)\n",
    "model1 = np.array(trial_model_time(t1,30, 30, 400, 0, 1.3,\n",
    "          0.3, 0.4, tilt_1=0.0, tilt_2=0.0, phi_12=0.0, phi_jl=0.0))\n",
    "# t2 = np.linspace(tg-4,tg+4,10000)\n",
    "# model2 = np.array(trial_model_time(t2,30, 30, 400, 0, 1.3,\n",
    "#          0.3, 0.4, tilt_1=0.0, tilt_2=0.0, phi_12=0.0, phi_jl=0.0))\n",
    "plt.plot(t,model,color='b',label='1000 Points')\n",
    "#plt.plot(t1,model1,color='r',label='100 Points',alpha='0.5')\n",
    "#plt.plot(t2,model2,color='g',label='10000 Points',alpha='0.5')\n",
    "plt.axvline(tg,color='k',label='GPS Time')\n",
    "plt.legend()\n",
    "plt.show()"
   ]
  },
  {
   "cell_type": "code",
   "execution_count": 19,
   "id": "f4e60f9d",
   "metadata": {},
   "outputs": [
    {
     "data": {
      "text/plain": [
       "array([ 1.86996153e-19+0.j,  1.88157105e-19+0.j,  1.89140931e-19+0.j,\n",
       "        1.89946622e-19+0.j,  1.90573343e-19+0.j,  1.91020426e-19+0.j,\n",
       "        1.91287370e-19+0.j,  1.91373844e-19+0.j,  1.91279688e-19+0.j,\n",
       "        1.91004914e-19+0.j,  1.90549701e-19+0.j,  1.89914401e-19+0.j,\n",
       "        1.89099538e-19+0.j,  1.88105798e-19+0.j,  1.86934049e-19+0.j,\n",
       "        1.85585314e-19+0.j,  1.84060800e-19+0.j,  1.82361862e-19+0.j,\n",
       "        1.80490042e-19+0.j,  1.78447024e-19+0.j,  1.76234669e-19+0.j,\n",
       "        1.73855004e-19+0.j,  1.71310203e-19+0.j,  1.68602605e-19+0.j,\n",
       "        1.65734705e-19+0.j,  1.62709143e-19+0.j,  1.59528719e-19+0.j,\n",
       "        1.56196383e-19+0.j,  1.52715220e-19+0.j,  1.49088479e-19+0.j,\n",
       "        1.45319507e-19+0.j,  1.41411844e-19+0.j,  1.37369130e-19+0.j,\n",
       "        1.33195133e-19+0.j,  1.28893752e-19+0.j,  1.24469033e-19+0.j,\n",
       "        1.19925103e-19+0.j,  1.15266234e-19+0.j,  1.10496806e-19+0.j,\n",
       "        1.05621282e-19+0.j,  1.00644260e-19+0.j,  9.55704191e-20+0.j,\n",
       "        9.04045506e-20+0.j,  8.51515201e-20+0.j,  7.98162806e-20+0.j,\n",
       "        7.44038672e-20+0.j,  6.89193929e-20+0.j,  6.33680580e-20+0.j,\n",
       "        5.77551123e-20+0.j,  5.20858536e-20+0.j,  4.63656713e-20+0.j,\n",
       "        4.05999884e-20+0.j,  3.47942751e-20+0.j,  2.89540440e-20+0.j,\n",
       "        2.30848291e-20+0.j,  1.71922306e-20+0.j,  1.12818550e-20+0.j,\n",
       "        5.35931371e-21+0.j, -5.69746595e-22+0.j, -6.49965433e-21+0.j,\n",
       "       -1.24247850e-20+0.j, -1.83394597e-20+0.j, -2.42380424e-20+0.j,\n",
       "       -3.01148740e-20+0.j, -3.59643641e-20+0.j, -4.17808904e-20+0.j,\n",
       "       -4.75588950e-20+0.j, -5.32928496e-20+0.j, -5.89772316e-20+0.j,\n",
       "       -6.46065982e-20+0.j, -7.01755521e-20+0.j, -7.56787329e-20+0.j,\n",
       "       -8.11108563e-20+0.j, -8.64666860e-20+0.j, -9.17410711e-20+0.j,\n",
       "       -9.69289332e-20+0.j, -1.02025245e-19+0.j, -1.07025122e-19+0.j,\n",
       "       -1.11923708e-19+0.j, -1.16716272e-19+0.j, -1.21398180e-19+0.j,\n",
       "       -1.25964901e-19+0.j, -1.30411996e-19+0.j, -1.34735165e-19+0.j,\n",
       "       -1.38930197e-19+0.j, -1.42993014e-19+0.j, -1.46919664e-19+0.j,\n",
       "       -1.50706318e-19+0.j, -1.54349283e-19+0.j, -1.57844997e-19+0.j,\n",
       "       -1.61190040e-19+0.j, -1.64381133e-19+0.j, -1.67415150e-19+0.j,\n",
       "       -1.70289089e-19+0.j, -1.73000135e-19+0.j, -1.75545607e-19+0.j,\n",
       "       -1.77922977e-19+0.j, -1.80129892e-19+0.j, -1.82164156e-19+0.j,\n",
       "       -1.84023730e-19+0.j, -1.85706750e-19+0.j, -1.87211517e-19+0.j,\n",
       "       -1.88536502e-19+0.j, -1.89680354e-19+0.j, -1.90641890e-19+0.j,\n",
       "       -1.91420102e-19+0.j, -1.92014155e-19+0.j, -1.92423399e-19+0.j,\n",
       "       -1.92647355e-19+0.j, -1.92685725e-19+0.j, -1.92538388e-19+0.j,\n",
       "       -1.92205403e-19+0.j, -1.91687008e-19+0.j, -1.90983621e-19+0.j,\n",
       "       -1.90095836e-19+0.j, -1.89024428e-19+0.j, -1.87770345e-19+0.j,\n",
       "       -1.86334721e-19+0.j, -1.84718858e-19+0.j, -1.82924235e-19+0.j,\n",
       "       -1.80952505e-19+0.j, -1.78805492e-19+0.j, -1.76485191e-19+0.j,\n",
       "       -1.73993773e-19+0.j, -1.71333563e-19+0.j, -1.68507056e-19+0.j,\n",
       "       -1.65516919e-19+0.j, -1.62365963e-19+0.j, -1.59057155e-19+0.j,\n",
       "       -1.55593648e-19+0.j, -1.51978713e-19+0.j, -1.48215774e-19+0.j,\n",
       "       -1.44308411e-19+0.j, -1.40260357e-19+0.j, -1.36075447e-19+0.j,\n",
       "       -1.31757692e-19+0.j, -1.27311207e-19+0.j, -1.22740249e-19+0.j,\n",
       "       -1.18049196e-19+0.j, -1.13242522e-19+0.j, -1.08324858e-19+0.j,\n",
       "       -1.03300929e-19+0.j, -9.81755264e-20+0.j, -9.29536166e-20+0.j,\n",
       "       -8.76402021e-20+0.j, -8.22404100e-20+0.j, -7.67594530e-20+0.j,\n",
       "       -7.12025964e-20+0.j, -6.55752162e-20+0.j, -5.98827439e-20+0.j,\n",
       "       -5.41306793e-20+0.j, -4.83245997e-20+0.j, -4.24701213e-20+0.j,\n",
       "       -3.65729126e-20+0.j, -3.06386883e-20+0.j, -2.46732041e-20+0.j,\n",
       "       -1.86822656e-20+0.j, -1.26716737e-20+0.j, -6.64728755e-21+0.j,\n",
       "       -6.14934111e-22+0.j,  5.41946286e-21+0.j,  1.14500780e-20+0.j,\n",
       "        1.74709961e-20+0.j,  2.34763772e-20+0.j,  2.94603236e-20+0.j,\n",
       "        3.54170236e-20+0.j,  4.13406499e-20+0.j,  4.72253895e-20+0.j,\n",
       "        5.30654980e-20+0.j,  5.88552666e-20+0.j,  6.45889997e-20+0.j,\n",
       "        7.02611010e-20+0.j,  7.58659807e-20+0.j,  8.13981447e-20+0.j,\n",
       "        8.68521632e-20+0.j,  9.22226493e-20+0.j,  9.75043406e-20+0.j,\n",
       "        1.02692024e-19+0.j,  1.07780578e-19+0.j,  1.12765001e-19+0.j,\n",
       "        1.17640347e-19+0.j,  1.22401816e-19+0.j,  1.27044699e-19+0.j,\n",
       "        1.31564374e-19+0.j,  1.35956380e-19+0.j,  1.40216347e-19+0.j,\n",
       "        1.44340058e-19+0.j,  1.48323400e-19+0.j,  1.52162418e-19+0.j,\n",
       "        1.55853263e-19+0.j,  1.59392262e-19+0.j,  1.62775886e-19+0.j,\n",
       "        1.66000726e-19+0.j,  1.69063557e-19+0.j,  1.71961306e-19+0.j,\n",
       "        1.74691038e-19+0.j,  1.77250012e-19+0.j,  1.79635635e-19+0.j,\n",
       "        1.81845478e-19+0.j,  1.83877299e-19+0.j])"
      ]
     },
     "execution_count": 19,
     "metadata": {},
     "output_type": "execute_result"
    }
   ],
   "source": [
    "np.array(trial_model_time(t,30, 30, 400, 0, 1.3,\n",
    "        0.3, 0.4, tilt_1=0.0, tilt_2=0.0, phi_12=0.0, phi_jl=0.0))[:200]"
   ]
  },
  {
   "cell_type": "code",
   "execution_count": null,
   "id": "116ae3d8",
   "metadata": {},
   "outputs": [],
   "source": []
  }
 ],
 "metadata": {
  "kernelspec": {
   "display_name": "Python 3 (ipykernel)",
   "language": "python",
   "name": "python3"
  },
  "language_info": {
   "codemirror_mode": {
    "name": "ipython",
    "version": 3
   },
   "file_extension": ".py",
   "mimetype": "text/x-python",
   "name": "python",
   "nbconvert_exporter": "python",
   "pygments_lexer": "ipython3",
   "version": "3.9.10"
  }
 },
 "nbformat": 4,
 "nbformat_minor": 5
}
